{
 "cells": [
  {
   "cell_type": "markdown",
   "id": "2b656fa4",
   "metadata": {},
   "source": [
    "# Katrina Rivera, 004886996"
   ]
  },
  {
   "cell_type": "code",
   "execution_count": 1,
   "id": "4020ae5b",
   "metadata": {},
   "outputs": [
    {
     "name": "stderr",
     "output_type": "stream",
     "text": [
      "C:\\Users\\Katrina\\AppData\\Roaming\\Python\\Python38\\site-packages\\pandas\\core\\computation\\expressions.py:20: UserWarning: Pandas requires version '2.7.3' or newer of 'numexpr' (version '2.7.1' currently installed).\n",
      "  from pandas.core.computation.check import NUMEXPR_INSTALLED\n"
     ]
    }
   ],
   "source": [
    "import pandas as pd"
   ]
  },
  {
   "cell_type": "markdown",
   "id": "24ddf4ad",
   "metadata": {},
   "source": [
    "# 1.) Clean the Apple Data to get a quarterly series of EPS."
   ]
  },
  {
   "cell_type": "code",
   "execution_count": 19,
   "id": "1d4eb7ea",
   "metadata": {},
   "outputs": [],
   "source": [
    "y = pd.read_csv(\"AAPL_quarterly_financials.csv\")"
   ]
  },
  {
   "cell_type": "code",
   "execution_count": 20,
   "id": "60bc53e4",
   "metadata": {},
   "outputs": [],
   "source": [
    "y.index = y.name"
   ]
  },
  {
   "cell_type": "code",
   "execution_count": 21,
   "id": "2f8c1517",
   "metadata": {},
   "outputs": [],
   "source": [
    "y = pd.DataFrame(y.loc[\"BasicEPS\", :]).iloc[2:,:]"
   ]
  },
  {
   "cell_type": "code",
   "execution_count": 22,
   "id": "c2104a38",
   "metadata": {},
   "outputs": [],
   "source": [
    "y.index = pd.to_datetime(y.index)"
   ]
  },
  {
   "cell_type": "code",
   "execution_count": 24,
   "id": "e94a855b",
   "metadata": {},
   "outputs": [],
   "source": [
    "# CHECK IF NAS ARE NO DIVIDEND PERIOD\n",
    "y = y.sort_index().fillna(0.)"
   ]
  },
  {
   "cell_type": "code",
   "execution_count": 39,
   "id": "ce29e852",
   "metadata": {},
   "outputs": [
    {
     "data": {
      "text/html": [
       "<div>\n",
       "<style scoped>\n",
       "    .dataframe tbody tr th:only-of-type {\n",
       "        vertical-align: middle;\n",
       "    }\n",
       "\n",
       "    .dataframe tbody tr th {\n",
       "        vertical-align: top;\n",
       "    }\n",
       "\n",
       "    .dataframe thead th {\n",
       "        text-align: right;\n",
       "    }\n",
       "</style>\n",
       "<table border=\"1\" class=\"dataframe\">\n",
       "  <thead>\n",
       "    <tr style=\"text-align: right;\">\n",
       "      <th></th>\n",
       "      <th>BasicEPS</th>\n",
       "    </tr>\n",
       "  </thead>\n",
       "  <tbody>\n",
       "    <tr>\n",
       "      <th>1985-09-30</th>\n",
       "      <td>0.0</td>\n",
       "    </tr>\n",
       "    <tr>\n",
       "      <th>1985-12-31</th>\n",
       "      <td>0.004</td>\n",
       "    </tr>\n",
       "    <tr>\n",
       "      <th>1986-03-31</th>\n",
       "      <td>0.002</td>\n",
       "    </tr>\n",
       "    <tr>\n",
       "      <th>1986-06-30</th>\n",
       "      <td>0.002</td>\n",
       "    </tr>\n",
       "    <tr>\n",
       "      <th>1986-09-30</th>\n",
       "      <td>0.0</td>\n",
       "    </tr>\n",
       "  </tbody>\n",
       "</table>\n",
       "</div>"
      ],
      "text/plain": [
       "           BasicEPS\n",
       "1985-09-30      0.0\n",
       "1985-12-31    0.004\n",
       "1986-03-31    0.002\n",
       "1986-06-30    0.002\n",
       "1986-09-30      0.0"
      ]
     },
     "execution_count": 39,
     "metadata": {},
     "output_type": "execute_result"
    }
   ],
   "source": [
    "y.head()"
   ]
  },
  {
   "cell_type": "code",
   "execution_count": 42,
   "id": "d7565492",
   "metadata": {},
   "outputs": [
    {
     "data": {
      "text/plain": [
       "(153, 1)"
      ]
     },
     "execution_count": 42,
     "metadata": {},
     "output_type": "execute_result"
    }
   ],
   "source": [
    "y.shape"
   ]
  },
  {
   "cell_type": "markdown",
   "id": "29351a8e",
   "metadata": {},
   "source": [
    "# 2.) Come up with 6 search terms you think could nowcast earnings. (Different than the ones I used) Add in 3 terms that that you think will not Nowcast earnings. Pull in the gtrends data"
   ]
  },
  {
   "cell_type": "code",
   "execution_count": 16,
   "id": "e6a93a79",
   "metadata": {},
   "outputs": [],
   "source": [
    "from pytrends.request import TrendReq"
   ]
  },
  {
   "cell_type": "code",
   "execution_count": 100,
   "id": "8efeada9",
   "metadata": {},
   "outputs": [],
   "source": [
    "# Create pytrends object\n",
    "pytrends = TrendReq(hl='en-US', tz=360)\n",
    "\n",
    "# Set up the keywords and the timeframe\n",
    "keywords = [\"Pixel\", \"Security\", \"Hack\", \"Inflation\", \"Job Market\", \"Upcoming Apple Products\", \"Weather\", \"Gardening\", \"Travel guides\"]  # Add your keywords here\n",
    "start_date = '2004-01-01'\n",
    "end_date = '2024-01-01'\n",
    "\n",
    "# Create an empty DataFrame to store the results\n",
    "df = pd.DataFrame()\n",
    "\n",
    "# Iterate through keywords and fetch data\n",
    "for keyword in keywords:\n",
    "    pytrends.build_payload([keyword], cat=0, timeframe=f'{start_date} {end_date}', geo='', gprop='')\n",
    "    interest_over_time_df = pytrends.interest_over_time()\n",
    "    df[keyword] = interest_over_time_df[keyword]"
   ]
  },
  {
   "cell_type": "code",
   "execution_count": 101,
   "id": "105298af",
   "metadata": {},
   "outputs": [],
   "source": [
    "df = df.resample(\"Q\").mean()"
   ]
  },
  {
   "cell_type": "code",
   "execution_count": 102,
   "id": "ff0b1a4d",
   "metadata": {},
   "outputs": [
    {
     "data": {
      "text/html": [
       "<div>\n",
       "<style scoped>\n",
       "    .dataframe tbody tr th:only-of-type {\n",
       "        vertical-align: middle;\n",
       "    }\n",
       "\n",
       "    .dataframe tbody tr th {\n",
       "        vertical-align: top;\n",
       "    }\n",
       "\n",
       "    .dataframe thead th {\n",
       "        text-align: right;\n",
       "    }\n",
       "</style>\n",
       "<table border=\"1\" class=\"dataframe\">\n",
       "  <thead>\n",
       "    <tr style=\"text-align: right;\">\n",
       "      <th></th>\n",
       "      <th>Pixel</th>\n",
       "      <th>Security</th>\n",
       "      <th>Hack</th>\n",
       "      <th>Inflation</th>\n",
       "      <th>Job Market</th>\n",
       "      <th>Upcoming Apple Products</th>\n",
       "      <th>Weather</th>\n",
       "      <th>Gardening</th>\n",
       "      <th>Travel guides</th>\n",
       "    </tr>\n",
       "    <tr>\n",
       "      <th>date</th>\n",
       "      <th></th>\n",
       "      <th></th>\n",
       "      <th></th>\n",
       "      <th></th>\n",
       "      <th></th>\n",
       "      <th></th>\n",
       "      <th></th>\n",
       "      <th></th>\n",
       "      <th></th>\n",
       "    </tr>\n",
       "  </thead>\n",
       "  <tbody>\n",
       "    <tr>\n",
       "      <th>2004-03-31</th>\n",
       "      <td>20.666667</td>\n",
       "      <td>95.333333</td>\n",
       "      <td>89.000000</td>\n",
       "      <td>46.333333</td>\n",
       "      <td>95.333333</td>\n",
       "      <td>33.333333</td>\n",
       "      <td>24.666667</td>\n",
       "      <td>61.666667</td>\n",
       "      <td>88.333333</td>\n",
       "    </tr>\n",
       "    <tr>\n",
       "      <th>2004-06-30</th>\n",
       "      <td>20.000000</td>\n",
       "      <td>96.333333</td>\n",
       "      <td>85.333333</td>\n",
       "      <td>44.333333</td>\n",
       "      <td>85.666667</td>\n",
       "      <td>0.000000</td>\n",
       "      <td>25.000000</td>\n",
       "      <td>88.333333</td>\n",
       "      <td>82.000000</td>\n",
       "    </tr>\n",
       "    <tr>\n",
       "      <th>2004-09-30</th>\n",
       "      <td>19.666667</td>\n",
       "      <td>94.666667</td>\n",
       "      <td>79.000000</td>\n",
       "      <td>36.000000</td>\n",
       "      <td>81.000000</td>\n",
       "      <td>0.000000</td>\n",
       "      <td>29.000000</td>\n",
       "      <td>48.333333</td>\n",
       "      <td>69.666667</td>\n",
       "    </tr>\n",
       "    <tr>\n",
       "      <th>2004-12-31</th>\n",
       "      <td>21.000000</td>\n",
       "      <td>87.333333</td>\n",
       "      <td>80.666667</td>\n",
       "      <td>40.000000</td>\n",
       "      <td>74.666667</td>\n",
       "      <td>10.666667</td>\n",
       "      <td>22.333333</td>\n",
       "      <td>35.666667</td>\n",
       "      <td>53.666667</td>\n",
       "    </tr>\n",
       "    <tr>\n",
       "      <th>2005-03-31</th>\n",
       "      <td>21.000000</td>\n",
       "      <td>88.333333</td>\n",
       "      <td>81.333333</td>\n",
       "      <td>39.000000</td>\n",
       "      <td>72.333333</td>\n",
       "      <td>0.000000</td>\n",
       "      <td>28.000000</td>\n",
       "      <td>48.000000</td>\n",
       "      <td>65.666667</td>\n",
       "    </tr>\n",
       "  </tbody>\n",
       "</table>\n",
       "</div>"
      ],
      "text/plain": [
       "                Pixel   Security       Hack  Inflation  Job Market  \\\n",
       "date                                                                 \n",
       "2004-03-31  20.666667  95.333333  89.000000  46.333333   95.333333   \n",
       "2004-06-30  20.000000  96.333333  85.333333  44.333333   85.666667   \n",
       "2004-09-30  19.666667  94.666667  79.000000  36.000000   81.000000   \n",
       "2004-12-31  21.000000  87.333333  80.666667  40.000000   74.666667   \n",
       "2005-03-31  21.000000  88.333333  81.333333  39.000000   72.333333   \n",
       "\n",
       "            Upcoming Apple Products    Weather  Gardening  Travel guides  \n",
       "date                                                                      \n",
       "2004-03-31                33.333333  24.666667  61.666667      88.333333  \n",
       "2004-06-30                 0.000000  25.000000  88.333333      82.000000  \n",
       "2004-09-30                 0.000000  29.000000  48.333333      69.666667  \n",
       "2004-12-31                10.666667  22.333333  35.666667      53.666667  \n",
       "2005-03-31                 0.000000  28.000000  48.000000      65.666667  "
      ]
     },
     "execution_count": 102,
     "metadata": {},
     "output_type": "execute_result"
    }
   ],
   "source": [
    "df.head()"
   ]
  },
  {
   "cell_type": "code",
   "execution_count": 103,
   "id": "5fc49b6c",
   "metadata": {},
   "outputs": [],
   "source": [
    "# ALIGN DATA\n",
    "temp = pd.concat([y, df],axis = 1).dropna()\n",
    "y = temp[[\"BasicEPS\"]].copy()\n",
    "X = temp.iloc[:,1:].copy()"
   ]
  },
  {
   "cell_type": "markdown",
   "id": "291a9116",
   "metadata": {},
   "source": [
    "# 3.) Normalize all the X data"
   ]
  },
  {
   "cell_type": "code",
   "execution_count": 104,
   "id": "c589fe4e",
   "metadata": {},
   "outputs": [],
   "source": [
    "from sklearn.preprocessing import StandardScaler"
   ]
  },
  {
   "cell_type": "code",
   "execution_count": 105,
   "id": "a12d62d2",
   "metadata": {},
   "outputs": [],
   "source": [
    "scaler = StandardScaler()"
   ]
  },
  {
   "cell_type": "code",
   "execution_count": 106,
   "id": "56b2c3c6",
   "metadata": {},
   "outputs": [],
   "source": [
    "X_scaled = scaler.fit_transform(X)"
   ]
  },
  {
   "cell_type": "markdown",
   "id": "9ab11c45",
   "metadata": {},
   "source": [
    "# 4.) Run a Lasso with lambda of .5. Plot a bar chart."
   ]
  },
  {
   "cell_type": "code",
   "execution_count": 107,
   "id": "5682be87",
   "metadata": {},
   "outputs": [],
   "source": [
    "from sklearn.linear_model import Lasso"
   ]
  },
  {
   "cell_type": "code",
   "execution_count": 108,
   "id": "f53aa0b5",
   "metadata": {},
   "outputs": [],
   "source": [
    "lasso = Lasso(alpha = .01)"
   ]
  },
  {
   "cell_type": "code",
   "execution_count": 109,
   "id": "ff75ff08",
   "metadata": {},
   "outputs": [
    {
     "data": {
      "text/plain": [
       "Lasso(alpha=0.01)"
      ]
     },
     "execution_count": 109,
     "metadata": {},
     "output_type": "execute_result"
    }
   ],
   "source": [
    "lasso.fit(X_scaled, y)"
   ]
  },
  {
   "cell_type": "code",
   "execution_count": 110,
   "id": "2de92161",
   "metadata": {},
   "outputs": [],
   "source": [
    "coefficients = lasso.coef_"
   ]
  },
  {
   "cell_type": "code",
   "execution_count": 111,
   "id": "0b09784f",
   "metadata": {},
   "outputs": [
    {
     "name": "stdout",
     "output_type": "stream",
     "text": [
      "Lasso Coefficients: [ 0.20912019 -0.         -0.00516204  0.13170688 -0.14626338  0.\n",
      "  0.04911829 -0.04150172 -0.01805351]\n"
     ]
    }
   ],
   "source": [
    "print(\"Lasso Coefficients:\", coefficients)"
   ]
  },
  {
   "cell_type": "code",
   "execution_count": 114,
   "id": "3ce9f955",
   "metadata": {},
   "outputs": [
    {
     "data": {
      "image/png": "[encoded data removed]",
      "text/plain": [
       "<Figure size 1200x500 with 1 Axes>"
      ]
     },
     "metadata": {},
     "output_type": "display_data"
    }
   ],
   "source": [
    "import matplotlib.pyplot as plt\n",
    "\n",
    "plt.figure(figsize=(12, 5))\n",
    "plt.bar(range(len(coefficients)), coefficients)\n",
    "plt.xticks(range(len(coefficients)), X.columns, rotation=45)  # Set tick labels\n",
    "plt.axhline(0, color=\"red\")\n",
    "plt.xlabel(\"Variable Names\")\n",
    "plt.ylabel(\"Coefficient Estiamtes\")\n",
    "plt.title(\"Lasso Coefficients Estimates\")\n",
    "plt.show()"
   ]
  },
  {
   "cell_type": "markdown",
   "id": "febe87e3",
   "metadata": {},
   "source": [
    "I set lambda = 0.1 to see the relationship between the coefficients. When lambda = .5, the penalization coefficient is too large and makes all of my coefficients equal to 0."
   ]
  },
  {
   "cell_type": "markdown",
   "id": "d151f909",
   "metadata": {},
   "source": [
    "# 5.) Do these coefficient magnitudes make sense?"
   ]
  },
  {
   "cell_type": "markdown",
   "id": "5bd888e1",
   "metadata": {},
   "source": [
    "These coefficient magnitudes do not match what I previously thought in relation to Apple EPS. For Pixel, I thought there would be a negative coefficient. This is because searches for Google's Pixel phone indicates that there would be more interest in Pixel phones, which would be associated with smaller Apple sales. Instead, there is a relatively large, positive coefficient for Pixel; this could be due to multiple reasons. For example, an increase in searches for Pixel potentially indicates increased interest in buying a smartphone; this increases market confidence, increasing Apple's EPS. \n",
    "\n",
    "For security and hack, I thought that the coefficients would be large and negative; this is because more security issues in phones would decrease purchases for phones, decreasing EPS. However, the coefficients of both are close to 0; this could be due to the lack of direct relationship to Apple and potential additional external factors.\n",
    "\n",
    "For inflation, there is a relatively large and positive coefficient; this is different than what I previously thought, which is that an increase in inflation searches would lead to a decrease in luxury purchases due to fear about increasing price increases. Inflation searches could instead relate to the idea that Apple can increase the price of its products, increasing EPS.\n",
    "\n",
    "For “job market”, there is a large negative coefficient. This is what I previously predicted, because an increase in searches for \"job market\" indicates that there are issues in finding employment, decreasing the purchase of luxury goods and decreasing Apple's revenue. It is also connected to a decrease in investor confidence.\n",
    "\n",
    "The search \"Upcoming Apple Products\" has a coefficient of 0. This is different from what I thought, where I thought the coefficient would be positive due to increased consumer interest. However, since it is 0, there is no real relationship between upcoming apple products and Apple EPS.\n",
    "\n",
    "Weather, gardening, and travel guides all have small coefficients. While I anticipated them to be 0, they have larger coefficients compared to terms I thought were connected to Apple EPS. This is different than what I previously thought and does not make sense.\n",
    "\n",
    "Overall, these coefficient magnitudes do not match my prior predictions, where multiple coefficients that I thought would be large were shrunk to 0, while the unrelated coefficients still remain in our model. Therefore, they do not make sense in relation to my prior predictions."
   ]
  }
 ],
 "metadata": {
  "kernelspec": {
   "display_name": "Python 3",
   "language": "python",
   "name": "python3"
  },
  "language_info": {
   "codemirror_mode": {
    "name": "ipython",
    "version": 3
   },
   "file_extension": ".py",
   "mimetype": "text/x-python",
   "name": "python",
   "nbconvert_exporter": "python",
   "pygments_lexer": "ipython3",
   "version": "3.8.3"
  }
 },
 "nbformat": 4,
 "nbformat_minor": 5
}
